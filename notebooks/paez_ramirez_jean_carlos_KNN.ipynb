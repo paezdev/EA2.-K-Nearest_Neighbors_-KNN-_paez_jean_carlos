{
 "cells": [
  {
   "cell_type": "code",
   "execution_count": null,
   "metadata": {
    "execution": {
     "iopub.execute_input": "2025-03-10T20:04:59.034021Z",
     "iopub.status.busy": "2025-03-10T20:04:59.033799Z",
     "iopub.status.idle": "2025-03-10T20:05:00.563610Z",
     "shell.execute_reply": "2025-03-10T20:05:00.562963Z"
    }
   },
   "outputs": [],
   "source": [
    "# Paso 1: Importar Librerías\n",
    "import pandas as pd\n",
    "import numpy as np\n",
    "import matplotlib.pyplot as plt\n",
    "import seaborn as sns\n",
    "from sklearn.preprocessing import StandardScaler\n",
    "from sklearn.model_selection import train_test_split\n",
    "from sklearn.neighbors import KNeighborsClassifier\n",
    "from sklearn.metrics import accuracy_score\n",
    "import os"
   ]
  },
  {
   "cell_type": "markdown",
   "metadata": {},
   "source": [
    "## Cargar los Datos"
   ]
  },
  {
   "cell_type": "code",
   "execution_count": null,
   "metadata": {
    "execution": {
     "iopub.execute_input": "2025-03-10T20:05:00.566404Z",
     "iopub.status.busy": "2025-03-10T20:05:00.565829Z",
     "iopub.status.idle": "2025-03-10T20:05:01.177734Z",
     "shell.execute_reply": "2025-03-10T20:05:01.176948Z"
    }
   },
   "outputs": [],
   "source": [
    "# Cargar el dataset\n",
    "import pandas as pd\n",
    "import numpy as np\n",
    "import matplotlib.pyplot as plt\n",
    "import seaborn as sns\n",
    "\n",
    "# Cargar el dataset (ajustando la ruta)\n",
    "data_path = \"../data/WA_Fn-UseC_-Telco-Customer-Churn.csv\"\n",
    "try:\n",
    "    df = pd.read_csv(data_path)\n",
    "    print(\"Dataset cargado exitosamente\")\n",
    "    print(\"\\nPrimeras 5 filas del dataset:\")\n",
    "    display(df.head())\n",
    "except FileNotFoundError:\n",
    "    # Si la ruta anterior falla, intentar con la ruta directa\n",
    "    data_path = \"data/WA_Fn-UseC_-Telco-Customer-Churn.csv\"\n",
    "    try:\n",
    "        df = pd.read_csv(data_path)\n",
    "        print(\"Dataset cargado exitosamente desde ruta alternativa\")\n",
    "        print(\"\\nPrimeras 5 filas del dataset:\")\n",
    "        display(df.head())\n",
    "    except FileNotFoundError:\n",
    "        print(\"Error: No se pudo encontrar el archivo. Por favor, verifica que el archivo existe en la carpeta 'data'\")\n",
    "        print(\"Rutas intentadas:\")\n",
    "        print(\"- ../data/WA_Fn-UseC_-Telco-Customer-Churn.csv\")\n",
    "        print(\"- data/WA_Fn-UseC_-Telco-Customer-Churn.csv\")"
   ]
  },
  {
   "cell_type": "markdown",
   "metadata": {},
   "source": [
    "## Análisis Exploratorio de Dato"
   ]
  },
  {
   "cell_type": "code",
   "execution_count": null,
   "metadata": {
    "execution": {
     "iopub.execute_input": "2025-03-10T20:05:01.212237Z",
     "iopub.status.busy": "2025-03-10T20:05:01.211688Z",
     "iopub.status.idle": "2025-03-10T20:05:01.227037Z",
     "shell.execute_reply": "2025-03-10T20:05:01.226394Z"
    }
   },
   "outputs": [],
   "source": [
    "# Resumen Estadístico:\n",
    "print(\"Resumen Estadístico:\")\n",
    "print(df.describe())\n",
    "print(\"\\n\")"
   ]
  },
  {
   "cell_type": "code",
   "execution_count": null,
   "metadata": {
    "execution": {
     "iopub.execute_input": "2025-03-10T20:05:01.229133Z",
     "iopub.status.busy": "2025-03-10T20:05:01.228752Z",
     "iopub.status.idle": "2025-03-10T20:05:01.244291Z",
     "shell.execute_reply": "2025-03-10T20:05:01.243620Z"
    }
   },
   "outputs": [],
   "source": [
    "# Distribución de Clases:\n",
    "plt.figure(figsize=(8, 6))\n",
    "sns.countplot(data=df, x='Churn')\n",
    "plt.title('Distribución de Churn')\n",
    "plt.show()"
   ]
  },
  {
   "cell_type": "code",
   "execution_count": null,
   "metadata": {
    "execution": {
     "iopub.execute_input": "2025-03-10T20:05:01.246604Z",
     "iopub.status.busy": "2025-03-10T20:05:01.246158Z",
     "iopub.status.idle": "2025-03-10T20:05:01.261592Z",
     "shell.execute_reply": "2025-03-10T20:05:01.261033Z"
    }
   },
   "outputs": [],
   "source": [
    "# Análisis de Variables Categóricas:\n",
    "categorical_columns = df.select_dtypes(include=['object']).columns\n",
    "print(\"\\nVariables Categóricas:\")\n",
    "for col in categorical_columns:\n",
    "    if col != 'customerID':  # Excluimos el ID del cliente\n",
    "        print(f\"\\nDistribución de {col}:\")\n",
    "        print(df[col].value_counts())\n",
    "\n",
    "        # Visualización\n",
    "        plt.figure(figsize=(10, 6))\n",
    "        sns.countplot(data=df, x=col, hue='Churn')\n",
    "        plt.title(f'Distribución de {col} por Churn')\n",
    "        plt.xticks(rotation=45)\n",
    "        plt.tight_layout()\n",
    "        plt.show()"
   ]
  },
  {
   "cell_type": "code",
   "execution_count": null,
   "metadata": {
    "execution": {
     "iopub.execute_input": "2025-03-10T20:05:01.263670Z",
     "iopub.status.busy": "2025-03-10T20:05:01.263329Z",
     "iopub.status.idle": "2025-03-10T20:05:01.277513Z",
     "shell.execute_reply": "2025-03-10T20:05:01.277001Z"
    }
   },
   "outputs": [],
   "source": [
    "# Correlación entre Variables Numéricas:\n",
    "numeric_columns = df.select_dtypes(include=['float64', 'int64']).columns\n",
    "corr_matrix = df[numeric_columns].corr()\n",
    "\n",
    "plt.figure(figsize=(10, 8))\n",
    "sns.heatmap(corr_matrix, annot=True, cmap=\"coolwarm\", fmt='.2f')\n",
    "plt.title(\"Matriz de correlación de variables numéricas\")\n",
    "plt.tight_layout()\n",
    "plt.show()"
   ]
  },
  {
   "cell_type": "code",
   "execution_count": null,
   "metadata": {
    "execution": {
     "iopub.execute_input": "2025-03-10T20:05:01.279400Z",
     "iopub.status.busy": "2025-03-10T20:05:01.279204Z",
     "iopub.status.idle": "2025-03-10T20:05:01.293790Z",
     "shell.execute_reply": "2025-03-10T20:05:01.293234Z"
    }
   },
   "outputs": [],
   "source": [
    "# Histograma de Ingresos:\n",
    "plt.figure(figsize=(10, 6))\n",
    "sns.histplot(data=df, x='MonthlyCharges', bins=30, kde=True)\n",
    "plt.title('Distribución de MonthlyCharges')\n",
    "plt.xlabel('MonthlyCharges')\n",
    "plt.ylabel('Frecuencia')\n",
    "plt.show()\n",
    "\n",
    "# Información adicional sobre el dataset\n",
    "print(\"\\nInformación del Dataset:\")\n",
    "print(df.info())\n",
    "\n",
    "# Valores faltantes\n",
    "print(\"\\nValores faltantes por columna:\")\n",
    "print(df.isnull().sum())"
   ]
  },
  {
   "cell_type": "markdown",
   "metadata": {},
   "source": [
    "## Preparación de Datos"
   ]
  },
  {
   "cell_type": "markdown",
   "metadata": {},
   "source": [
    "Normalicé las columnas numéricas (tenure, MonthlyCharges, y TotalCharges) utilizando StandardScaler de scikit-learn, que estandariza los datos para que tengan una media de 0 y una desviación estándar de 1.\n",
    "\n",
    "**Justificación:**\n",
    "\n",
    "* Usamos StandardScaler porque KNN es sensible a las escalas de las variables.\n",
    "* Rellenamos valores faltantes en TotalCharges con la mediana para evitar problemas durante la normalización.\n",
    "* Solo normalizamos las columnas numéricas, ya que las categóricas serán codificadas más adelante."
   ]
  },
  {
   "cell_type": "code",
   "execution_count": 16,
   "metadata": {
    "execution": {
     "iopub.execute_input": "2025-03-10T20:05:01.295687Z",
     "iopub.status.busy": "2025-03-10T20:05:01.295494Z",
     "iopub.status.idle": "2025-03-10T20:05:01.310290Z",
     "shell.execute_reply": "2025-03-10T20:05:01.309720Z"
    }
   },
   "outputs": [
    {
     "name": "stdout",
     "output_type": "stream",
     "text": [
      "Datos normalizados:\n",
      "     tenure  MonthlyCharges  TotalCharges\n",
      "0 -1.277445       -1.160323     -0.994242\n",
      "1  0.066327       -0.259629     -0.173244\n",
      "2 -1.236724       -0.362660     -0.959674\n",
      "3  0.514251       -0.746535     -0.194766\n",
      "4 -1.236724        0.197365     -0.940470\n"
     ]
    },
    {
     "name": "stderr",
     "output_type": "stream",
     "text": [
      "/tmp/ipykernel_2823/3593941153.py:8: FutureWarning: A value is trying to be set on a copy of a DataFrame or Series through chained assignment using an inplace method.\n",
      "The behavior will change in pandas 3.0. This inplace method will never work because the intermediate object on which we are setting values always behaves as a copy.\n",
      "\n",
      "For example, when doing 'df[col].method(value, inplace=True)', try using 'df.method({col: value}, inplace=True)' or df[col] = df[col].method(value) instead, to perform the operation inplace on the original object.\n",
      "\n",
      "\n",
      "  df['TotalCharges'].fillna(df['TotalCharges'].median(), inplace=True)\n"
     ]
    }
   ],
   "source": [
    "## Normalización:\n",
    "from sklearn.preprocessing import StandardScaler\n",
    "\n",
    "# Convertir 'TotalCharges' a numérico (puede contener valores no numéricos)\n",
    "df['TotalCharges'] = pd.to_numeric(df['TotalCharges'], errors='coerce')\n",
    "\n",
    "# Rellenar valores faltantes en 'TotalCharges' con la mediana\n",
    "df['TotalCharges'].fillna(df['TotalCharges'].median(), inplace=True)\n",
    "\n",
    "# Seleccionar columnas numéricas para normalizar\n",
    "numeric_columns = ['tenure', 'MonthlyCharges', 'TotalCharges']\n",
    "\n",
    "# Crear un objeto StandardScaler\n",
    "scaler = StandardScaler()\n",
    "\n",
    "# Normalizar las columnas numéricas\n",
    "df[numeric_columns] = scaler.fit_transform(df[numeric_columns])\n",
    "\n",
    "print(\"Datos normalizados:\")\n",
    "print(df[numeric_columns].head())"
   ]
  },
  {
   "cell_type": "code",
   "execution_count": 17,
   "metadata": {
    "execution": {
     "iopub.execute_input": "2025-03-10T20:05:01.312115Z",
     "iopub.status.busy": "2025-03-10T20:05:01.311898Z",
     "iopub.status.idle": "2025-03-10T20:05:01.327175Z",
     "shell.execute_reply": "2025-03-10T20:05:01.326619Z"
    }
   },
   "outputs": [
    {
     "name": "stdout",
     "output_type": "stream",
     "text": [
      "Tamaño del conjunto de entrenamiento: (5634, 7072)\n",
      "Tamaño del conjunto de prueba: (1409, 7072)\n"
     ]
    }
   ],
   "source": [
    "# División de Datos:\n",
    "from sklearn.model_selection import train_test_split\n",
    "\n",
    "# Codificar variables categóricas con one-hot encoding\n",
    "df_encoded = pd.get_dummies(df, columns=df.select_dtypes(include=['object']).columns, drop_first=True)\n",
    "\n",
    "# Separar características (X) y variable objetivo (y)\n",
    "X = df_encoded.drop('Churn_Yes', axis=1)\n",
    "y = df_encoded['Churn_Yes']\n",
    "\n",
    "# Dividir los datos en entrenamiento y prueba\n",
    "X_train, X_test, y_train, y_test = train_test_split(X, y, test_size=0.2, random_state=42)\n",
    "\n",
    "print(\"Tamaño del conjunto de entrenamiento:\", X_train.shape)\n",
    "print(\"Tamaño del conjunto de prueba:\", X_test.shape)"
   ]
  },
  {
   "cell_type": "markdown",
   "metadata": {},
   "source": [
    "## Implementación de KNN"
   ]
  },
  {
   "cell_type": "code",
   "execution_count": null,
   "metadata": {
    "execution": {
     "iopub.execute_input": "2025-03-10T20:05:01.329363Z",
     "iopub.status.busy": "2025-03-10T20:05:01.329005Z",
     "iopub.status.idle": "2025-03-10T20:05:01.342987Z",
     "shell.execute_reply": "2025-03-10T20:05:01.342448Z"
    }
   },
   "outputs": [],
   "source": [
    "# Entrenamiento del Modelo:\n",
    "from sklearn.neighbors import KNeighborsClassifier\n",
    "knn = KNeighborsClassifier(n_neighbors=5)\n",
    "knn.fit(X_train, y_train)"
   ]
  },
  {
   "cell_type": "code",
   "execution_count": null,
   "metadata": {
    "execution": {
     "iopub.execute_input": "2025-03-10T20:05:01.345021Z",
     "iopub.status.busy": "2025-03-10T20:05:01.344648Z",
     "iopub.status.idle": "2025-03-10T20:05:01.358810Z",
     "shell.execute_reply": "2025-03-10T20:05:01.358158Z"
    }
   },
   "outputs": [],
   "source": [
    "# Evaluación:\n",
    "from sklearn.metrics import accuracy_score\n",
    "y_pred = knn.predict(X_test)\n",
    "print(\"Precisión del modelo:\", accuracy_score(y_test, y_pred))"
   ]
  },
  {
   "cell_type": "code",
   "execution_count": null,
   "metadata": {
    "execution": {
     "iopub.execute_input": "2025-03-10T20:05:01.360849Z",
     "iopub.status.busy": "2025-03-10T20:05:01.360436Z",
     "iopub.status.idle": "2025-03-10T20:05:01.378198Z",
     "shell.execute_reply": "2025-03-10T20:05:01.377636Z"
    }
   },
   "outputs": [],
   "source": [
    "# Visualización de Precisión para Diferentes Vecinos:\n",
    "accuracies = []\n",
    "for k in range(1, 21):\n",
    "    knn = KNeighborsClassifier(n_neighbors=k)\n",
    "    knn.fit(X_train, y_train)\n",
    "    y_pred = knn.predict(X_test)\n",
    "    accuracies.append(accuracy_score(y_test, y_pred))\n",
    "\n",
    "plt.plot(range(1, 21), accuracies)\n",
    "plt.title(\"Precisión vs Número de Vecinos\")\n",
    "plt.xlabel(\"Número de Vecinos\")\n",
    "plt.ylabel(\"Precisión\")\n",
    "plt.show()"
   ]
  }
 ],
 "metadata": {
  "kernelspec": {
   "display_name": "env",
   "language": "python",
   "name": "python3"
  },
  "language_info": {
   "codemirror_mode": {
    "name": "ipython",
    "version": 3
   },
   "file_extension": ".py",
   "mimetype": "text/x-python",
   "name": "python",
   "nbconvert_exporter": "python",
   "pygments_lexer": "ipython3",
   "version": "3.12.1"
  }
 },
 "nbformat": 4,
 "nbformat_minor": 2
}
